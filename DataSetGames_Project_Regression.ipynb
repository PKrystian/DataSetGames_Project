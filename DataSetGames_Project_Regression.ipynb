{
 "cells": [
  {
   "cell_type": "code",
   "execution_count": null,
   "id": "acb78fb4-d55a-45d2-baf0-d9c7bacfc33d",
   "metadata": {},
   "outputs": [],
   "source": [
    "from sklearn.model_selection import train_test_split\n",
    "from sklearn import model_selection, preprocessing, linear_model, naive_bayes, metrics\n",
    "from sklearn.ensemble import RandomForestRegressor\n",
    "import pandas as pd\n",
    "import numpy as np\n",
    "import matplotlib.pyplot as plt\n",
    "import seaborn as sns\n",
    "import pickle"
   ]
  },
  {
   "cell_type": "code",
   "execution_count": null,
   "id": "2eeceeb1-a84f-4921-8504-0262311e9320",
   "metadata": {},
   "outputs": [],
   "source": [
    "games_dataset = pd.read_csv('vgsales.csv')\n",
    "games_dataset.head(5)"
   ]
  },
  {
   "attachments": {},
   "cell_type": "markdown",
   "id": "6728dd10",
   "metadata": {},
   "source": [
    "# Analazying dataset"
   ]
  },
  {
   "cell_type": "code",
   "execution_count": null,
   "id": "4a1b9dfa-9770-41b4-a02e-562fb01796be",
   "metadata": {},
   "outputs": [],
   "source": [
    "print('Genre:', len(games_dataset.Genre.unique()))\n",
    "print('Platform:', len(games_dataset.Platform.unique()))\n",
    "print('Publisher:', len(games_dataset.Publisher.unique()))"
   ]
  },
  {
   "cell_type": "code",
   "execution_count": null,
   "id": "2e65cac5-6ffb-47d4-9669-309689e7cdaf",
   "metadata": {},
   "outputs": [],
   "source": [
    "games_dataset['Year'].plot.box()"
   ]
  },
  {
   "cell_type": "code",
   "execution_count": null,
   "id": "3145a0fe-dc32-48d8-a95a-9cbae77c9eb6",
   "metadata": {},
   "outputs": [],
   "source": [
    "games_dataset.describe()"
   ]
  },
  {
   "cell_type": "code",
   "execution_count": null,
   "id": "0ec67683",
   "metadata": {
    "scrolled": true
   },
   "outputs": [],
   "source": [
    "# Correlation before normalization\n",
    "\n",
    "correlations = games_dataset.corr()\n",
    "fig, ax = plt.subplots(figsize=(len(games_dataset.columns), len(games_dataset.columns)))\n",
    "\n",
    "colormap = sns.color_palette(\"BrBG\", 10)\n",
    "\n",
    "sns.heatmap(correlations, \n",
    "    cmap=colormap, \n",
    "    annot=True, \n",
    "    fmt=\".2f\")\n",
    "\n",
    "plt.show()"
   ]
  },
  {
   "cell_type": "markdown",
   "id": "8a8ab878",
   "metadata": {},
   "source": [
    "# Deleting unnecessary columns"
   ]
  },
  {
   "cell_type": "code",
   "execution_count": null,
   "id": "5a5aff33",
   "metadata": {
    "scrolled": false
   },
   "outputs": [],
   "source": [
    "games_dataset.drop('Name', inplace=True, axis=1)\n",
    "games_dataset.drop('Rank', inplace=True, axis=1)\n",
    "games_dataset.drop('NA_Sales', inplace = True, axis = 1)\n",
    "games_dataset.drop('EU_Sales', inplace = True, axis = 1)\n",
    "games_dataset.drop('JP_Sales', inplace = True, axis = 1)\n",
    "games_dataset.drop('Other_Sales', inplace = True, axis = 1)\n",
    "games_dataset.head(5)"
   ]
  },
  {
   "cell_type": "code",
   "execution_count": null,
   "id": "b408535c",
   "metadata": {},
   "outputs": [],
   "source": [
    "# Dropping unnecessarily scarce data ( insignificant for model )\n",
    "\n",
    "games_dataset = games_dataset.drop(games_dataset[games_dataset.Year < 1995].index)\n",
    "games_dataset = games_dataset.drop(games_dataset[games_dataset.Year > 2019].index)"
   ]
  },
  {
   "cell_type": "code",
   "execution_count": null,
   "id": "1a26d52c",
   "metadata": {},
   "outputs": [],
   "source": [
    "games_dataset['Year'].plot.box()"
   ]
  },
  {
   "cell_type": "markdown",
   "id": "081db77f",
   "metadata": {},
   "source": [
    "# Normalizing useful data to int types"
   ]
  },
  {
   "cell_type": "code",
   "execution_count": null,
   "id": "d2ad9188",
   "metadata": {},
   "outputs": [],
   "source": [
    "# Function to convert useful data to int types in order\n",
    "\n",
    "def convert_to_int_range(df, column_name):\n",
    "    column_list = df[column_name].unique()\n",
    "    \n",
    "    column_dict = {}\n",
    "    \n",
    "    for i in range(len(column_list)):\n",
    "        column_dict[column_list[i]] = i + 1\n",
    "        \n",
    "    return df.replace(column_dict.keys(), column_dict.values())"
   ]
  },
  {
   "cell_type": "code",
   "execution_count": null,
   "id": "082edd4a",
   "metadata": {},
   "outputs": [],
   "source": [
    "games_dataset = convert_to_int_range(games_dataset, 'Platform')\n",
    "games_dataset = convert_to_int_range(games_dataset, 'Publisher')\n",
    "games_dataset = convert_to_int_range(games_dataset, 'Genre')\n",
    "games_dataset = games_dataset.reset_index(drop=True)\n",
    "games_dataset.head(5)"
   ]
  },
  {
   "cell_type": "code",
   "execution_count": null,
   "id": "73365130",
   "metadata": {},
   "outputs": [],
   "source": [
    "# Correlation after normalization\n",
    "\n",
    "correlations = games_dataset.corr()\n",
    "fig, ax = plt.subplots(figsize=(len(games_dataset.columns), len(games_dataset.columns)))\n",
    "\n",
    "colormap = sns.color_palette(\"BrBG\", 10)\n",
    "\n",
    "sns.heatmap(correlations, \n",
    "    cmap=colormap, \n",
    "    annot=True, \n",
    "    fmt=\".2f\")\n",
    "\n",
    "plt.show()"
   ]
  },
  {
   "attachments": {},
   "cell_type": "markdown",
   "id": "a970c963",
   "metadata": {},
   "source": [
    "# Preparing and training models"
   ]
  },
  {
   "cell_type": "code",
   "execution_count": null,
   "id": "9d6b0d4f",
   "metadata": {},
   "outputs": [],
   "source": [
    "X = games_dataset.drop('Global_Sales', axis=1).to_numpy()\n",
    "y = games_dataset.loc[:, 'Global_Sales'].to_numpy()"
   ]
  },
  {
   "cell_type": "code",
   "execution_count": null,
   "id": "2cf488f8",
   "metadata": {},
   "outputs": [],
   "source": [
    "# Distributioning the dataset into training and test data\n",
    "\n",
    "X_train, X_test, y_train, y_test = train_test_split(X, y, test_size=0.2, random_state=12345) "
   ]
  },
  {
   "cell_type": "code",
   "execution_count": null,
   "id": "a43f1bcb",
   "metadata": {},
   "outputs": [],
   "source": [
    "# Function for training and evaluating models\n",
    "\n",
    "def train_model(classifier, feature_vector_train, label, feature_vector_valid):\n",
    "    classifier.fit(feature_vector_train, label)\n",
    "    with open('datagames.pickle', 'wb') as handle:\n",
    "        pickle.dump(classifier, handle)\n",
    "    predictions = classifier.predict(feature_vector_valid)\n",
    "    score_vals = [\n",
    "        metrics.mean_squared_error(predictions, y_test),\n",
    "        metrics.mean_absolute_error(predictions, y_test)\n",
    "    ]\n",
    "    return score_vals"
   ]
  },
  {
   "cell_type": "code",
   "execution_count": null,
   "id": "e2819547",
   "metadata": {},
   "outputs": [],
   "source": [
    "# Model 1\n",
    "\n",
    "accuracy = train_model(linear_model.LinearRegression(), X_train, y_train, X_test)\n",
    "accuracy_compare = {'LR': accuracy}\n",
    "print (\"LR: \", accuracy)"
   ]
  },
  {
   "cell_type": "code",
   "execution_count": null,
   "id": "49714eaa",
   "metadata": {},
   "outputs": [],
   "source": [
    "# Model 2\n",
    "\n",
    "regressor = RandomForestRegressor(n_estimators = 100, random_state = 0)\n",
    "accuracy = train_model(regressor, X_train, y_train, X_test)\n",
    "accuracy_compare['random forrest tree'] = accuracy\n",
    "print ('random forrest tree' , accuracy)"
   ]
  },
  {
   "attachments": {},
   "cell_type": "markdown",
   "id": "94debd32",
   "metadata": {},
   "source": [
    "# Comparing models"
   ]
  },
  {
   "cell_type": "code",
   "execution_count": null,
   "id": "a72ded46",
   "metadata": {},
   "outputs": [],
   "source": [
    "df_compare = pd.DataFrame(accuracy_compare, index = ['mse', 'mae'])\n",
    "df_compare.plot(kind='bar')"
   ]
  },
  {
   "attachments": {},
   "cell_type": "markdown",
   "id": "e410328a",
   "metadata": {},
   "source": [
    "# Fine tuning"
   ]
  },
  {
   "cell_type": "code",
   "execution_count": null,
   "id": "6d5e05f7",
   "metadata": {},
   "outputs": [],
   "source": [
    "# Model 3\n",
    "\n",
    "regressor = RandomForestRegressor(n_estimators = 300, random_state = 0)\n",
    "accuracy = train_model(regressor, X_train, y_train, X_test)\n",
    "accuracy_compare['random forrest tree improved'] = accuracy\n",
    "print ('random forrest tree improved' , accuracy)"
   ]
  },
  {
   "attachments": {},
   "cell_type": "markdown",
   "id": "59b5e69a",
   "metadata": {},
   "source": [
    "# Model valuation"
   ]
  },
  {
   "cell_type": "code",
   "execution_count": null,
   "id": "42f2ef7a",
   "metadata": {},
   "outputs": [],
   "source": [
    "regressor.score(X_test,y_test)"
   ]
  },
  {
   "attachments": {},
   "cell_type": "markdown",
   "id": "37f25f28",
   "metadata": {},
   "source": [
    "# Manual test"
   ]
  },
  {
   "cell_type": "code",
   "execution_count": null,
   "id": "d9d5be5a",
   "metadata": {},
   "outputs": [],
   "source": [
    "#format regressor.predict([[Platform, Year, Genre, Publisher]])\n",
    "\n",
    "regressor.predict([[3, 2019, 2, 1]])"
   ]
  },
  {
   "cell_type": "code",
   "execution_count": null,
   "id": "c480111a",
   "metadata": {},
   "outputs": [],
   "source": [
    "games_dataset.describe()"
   ]
  }
 ],
 "metadata": {
  "kernelspec": {
   "display_name": "Python 3",
   "language": "python",
   "name": "python3"
  },
  "language_info": {
   "codemirror_mode": {
    "name": "ipython",
    "version": 3
   },
   "file_extension": ".py",
   "mimetype": "text/x-python",
   "name": "python",
   "nbconvert_exporter": "python",
   "pygments_lexer": "ipython3",
   "version": "3.11.1"
  },
  "vscode": {
   "interpreter": {
    "hash": "38c40f84099447a5d5a27c4e7b50c3a266ddffacb67b58349291a29d898c5709"
   }
  }
 },
 "nbformat": 4,
 "nbformat_minor": 5
}
