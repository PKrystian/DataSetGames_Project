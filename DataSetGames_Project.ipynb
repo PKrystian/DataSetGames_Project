{
 "cells": [
  {
   "cell_type": "code",
   "execution_count": null,
   "id": "acb78fb4-d55a-45d2-baf0-d9c7bacfc33d",
   "metadata": {},
   "outputs": [],
   "source": [
    "import pandas as pd\n",
    "import numpy as np\n",
    "import matplotlib.pyplot as plt\n",
    "import seaborn as sns\n",
    "from sklearn.preprocessing import StandardScaler\n",
    "from sklearn.decomposition import PCA\n",
    "from sklearn.pipeline import Pipeline\n",
    "from sklearn.linear_model import LogisticRegression\n",
    "from sklearn.model_selection import train_test_split\n",
    "from sklearn import model_selection, preprocessing, linear_model, naive_bayes, metrics\n",
    "from sklearn.ensemble import RandomForestRegressor\n",
    "from sklearn import utils"
   ]
  },
  {
   "cell_type": "code",
   "execution_count": null,
   "id": "ef053503",
   "metadata": {},
   "outputs": [],
   "source": [
    "from Normalizer import Normalizer\n",
    "from DataManager import DataManager"
   ]
  },
  {
   "cell_type": "code",
   "execution_count": null,
   "id": "2eeceeb1-a84f-4921-8504-0262311e9320",
   "metadata": {},
   "outputs": [],
   "source": [
    "Manager = DataManager()\n",
    "\n",
    "games_dataset = Manager.get_data('vgsales.csv')\n",
    "games_dataset.head(5)"
   ]
  },
  {
   "cell_type": "code",
   "execution_count": null,
   "id": "4a1b9dfa-9770-41b4-a02e-562fb01796be",
   "metadata": {},
   "outputs": [],
   "source": [
    "Manager.get_unique_col(games_dataset, 'Genre')"
   ]
  },
  {
   "cell_type": "code",
   "execution_count": null,
   "id": "20ab5bfc-d176-4186-8ddd-e668eebbc384",
   "metadata": {},
   "outputs": [],
   "source": [
    "Manager.get_unique_col(games_dataset, 'Platform')"
   ]
  },
  {
   "cell_type": "code",
   "execution_count": null,
   "id": "9e83bb67-e443-4ea8-a7c1-71e016b390ac",
   "metadata": {},
   "outputs": [],
   "source": [
    "len(Manager.get_unique_col(games_dataset, 'Publisher'))"
   ]
  },
  {
   "cell_type": "code",
   "execution_count": null,
   "id": "2e65cac5-6ffb-47d4-9669-309689e7cdaf",
   "metadata": {},
   "outputs": [],
   "source": [
    "games_dataset['Year'].plot.box()\n"
   ]
  },
  {
   "cell_type": "code",
   "execution_count": null,
   "id": "3145a0fe-dc32-48d8-a95a-9cbae77c9eb6",
   "metadata": {},
   "outputs": [],
   "source": [
    "Manager.show_df_info(games_dataset)"
   ]
  },
  {
   "cell_type": "code",
   "execution_count": null,
   "id": "0ec67683",
   "metadata": {
    "scrolled": true
   },
   "outputs": [],
   "source": [
    "# Correlation before normalization\n",
    "\n",
    "correlations = games_dataset.corr()\n",
    "fig, ax = plt.subplots(figsize=(len(games_dataset.columns), len(games_dataset.columns)))\n",
    "\n",
    "colormap = sns.color_palette(\"BrBG\", 10)\n",
    "\n",
    "sns.heatmap(correlations, \n",
    "    cmap=colormap, \n",
    "    annot=True, \n",
    "    fmt=\".2f\")\n",
    "\n",
    "plt.show()"
   ]
  },
  {
   "cell_type": "markdown",
   "id": "8a8ab878",
   "metadata": {},
   "source": [
    "# Deleting unnecessary columns"
   ]
  },
  {
   "cell_type": "code",
   "execution_count": null,
   "id": "5a5aff33",
   "metadata": {
    "scrolled": false
   },
   "outputs": [],
   "source": [
    "# Dropping useless data\n",
    "\n",
    "Manager.rename_cols(games_dataset, ['Platform'], ['Device'])\n",
    "\n",
    "Manager.drop_cols(games_dataset, ['Name', 'Rank', 'NA_Sales', 'EU_Sales', 'JP_Sales', 'Other_Sales'])\n",
    "\n",
    "games_dataset.head(5)"
   ]
  },
  {
   "cell_type": "code",
   "execution_count": null,
   "id": "b408535c",
   "metadata": {},
   "outputs": [],
   "source": [
    "# Dropping unnecessarily scarce data ( insignificant for model )\n",
    "\n",
    "games_dataset = games_dataset.drop(games_dataset[games_dataset.Year < 1995].index)\n",
    "games_dataset = games_dataset.drop(games_dataset[games_dataset.Year > 2019].index)"
   ]
  },
  {
   "cell_type": "code",
   "execution_count": null,
   "id": "1a26d52c",
   "metadata": {},
   "outputs": [],
   "source": [
    "games_dataset['Year'].plot.box()"
   ]
  },
  {
   "cell_type": "markdown",
   "id": "081db77f",
   "metadata": {},
   "source": [
    "# Normalizing useful data to int types"
   ]
  },
  {
   "cell_type": "code",
   "execution_count": null,
   "id": "d2ad9188",
   "metadata": {},
   "outputs": [],
   "source": [
    "# Converts a column with multiple keyword existences to seperate binary columns\n",
    "Norm = Normalizer()\n",
    "\n",
    "Norm.one_hot_encoder(games_dataset, games_dataset['Genre'].unique(), 'Genre')\n",
    "Norm.one_hot_encoder(games_dataset, games_dataset['Device'].unique(), 'Device')\n",
    "Norm.one_hot_encoder(games_dataset, games_dataset['Publisher'].unique(), 'Publisher')"
   ]
  },
  {
   "cell_type": "code",
   "execution_count": null,
   "id": "d563d9ee",
   "metadata": {},
   "outputs": [],
   "source": [
    "games_dataset.head(5)"
   ]
  },
  {
   "cell_type": "code",
   "execution_count": null,
   "id": "4a98ce78",
   "metadata": {},
   "outputs": [],
   "source": [
    "# Remove any Nan columns\n",
    "games_dataset = Manager.remove_null_values(games_dataset)\n",
    "games_dataset = Manager.remove_null_cols(games_dataset)"
   ]
  },
  {
   "cell_type": "code",
   "execution_count": null,
   "id": "48c62a5f",
   "metadata": {},
   "outputs": [],
   "source": [
    "x = games_dataset.drop('Global_Sales', axis=1).to_numpy()\n",
    "y = games_dataset.loc[:, 'Global_Sales'].to_numpy()"
   ]
  },
  {
   "cell_type": "code",
   "execution_count": null,
   "id": "feded4f7",
   "metadata": {},
   "outputs": [],
   "source": [
    "# Scaling data\n",
    "scaler = StandardScaler()\n",
    "scaler.fit(x)\n",
    "x_scaled = scaler.fit_transform(x)"
   ]
  },
  {
   "cell_type": "code",
   "execution_count": null,
   "id": "1b6a0cf0",
   "metadata": {},
   "outputs": [],
   "source": [
    "pca = PCA()\n",
    "pca.fit(x_scaled)"
   ]
  },
  {
   "cell_type": "code",
   "execution_count": null,
   "id": "95095560",
   "metadata": {},
   "outputs": [],
   "source": [
    "components = None\n",
    "components = len(pca.explained_variance_ratio_) \\\n",
    "    if components is None else components\n",
    "\n",
    "plt.plot(range(1, components+1), np.cumsum(pca.explained_variance_ratio_ * 100))\n",
    "plt.xlabel(\"Number of components\")\n",
    "plt.ylabel(\"Explained variance (%)\")"
   ]
  },
  {
   "cell_type": "code",
   "execution_count": null,
   "id": "99b29265",
   "metadata": {},
   "outputs": [],
   "source": [
    "pca = PCA(n_components = 0.98)\n",
    "pca.fit(x_scaled)"
   ]
  },
  {
   "cell_type": "code",
   "execution_count": null,
   "id": "5ece82c0",
   "metadata": {},
   "outputs": [],
   "source": [
    "print(pca.explained_variance_ratio_.cumsum() * 100)"
   ]
  },
  {
   "cell_type": "code",
   "execution_count": null,
   "id": "e72b0464",
   "metadata": {},
   "outputs": [],
   "source": [
    "x_pca = pca.transform(x_scaled)\n",
    "print(x_pca.shape)\n",
    "print(x_pca)"
   ]
  },
  {
   "cell_type": "code",
   "execution_count": null,
   "id": "840a90c7",
   "metadata": {},
   "outputs": [],
   "source": [
    "_sc = StandardScaler()\n",
    "_pca = PCA(n_components = components)\n",
    "_model = LogisticRegression()\n",
    "log_regress_model = Pipeline([\n",
    "    ('std_scaler', _sc),\n",
    "    ('pca', _pca),\n",
    "    ('regressor', _model)\n",
    "])"
   ]
  },
  {
   "cell_type": "code",
   "execution_count": null,
   "id": "7f898220",
   "metadata": {},
   "outputs": [],
   "source": [
    "#convert y values to categorical values\n",
    "lab = preprocessing.LabelEncoder()\n",
    "y = lab.fit_transform(y)\n",
    "\n",
    "#view transformed values\n",
    "print(y)"
   ]
  },
  {
   "cell_type": "code",
   "execution_count": null,
   "id": "e36e79e9",
   "metadata": {},
   "outputs": [],
   "source": [
    "X_train, X_test, y_train, y_test = train_test_split(x_scaled, y, test_size=0.2, shuffle=True, random_state=12345)\n",
    "log_reg = LogisticRegression()\n",
    "log_reg.fit(X_train, y_train)\n",
    "log_reg.score(X_test,y_test)"
   ]
  }
 ],
 "metadata": {
  "kernelspec": {
   "display_name": "Python 3",
   "language": "python",
   "name": "python3"
  },
  "language_info": {
   "codemirror_mode": {
    "name": "ipython",
    "version": 3
   },
   "file_extension": ".py",
   "mimetype": "text/x-python",
   "name": "python",
   "nbconvert_exporter": "python",
   "pygments_lexer": "ipython3",
   "version": "3.11.1"
  },
  "vscode": {
   "interpreter": {
    "hash": "38c40f84099447a5d5a27c4e7b50c3a266ddffacb67b58349291a29d898c5709"
   }
  }
 },
 "nbformat": 4,
 "nbformat_minor": 5
}
